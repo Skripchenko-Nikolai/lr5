{
  "nbformat": 4,
  "nbformat_minor": 0,
  "metadata": {
    "colab": {
      "provenance": [],
      "authorship_tag": "ABX9TyPRVcJN7zOaLWCb5+P9roqP"
    },
    "kernelspec": {
      "name": "python3",
      "display_name": "Python 3"
    },
    "language_info": {
      "name": "python"
    }
  },
  "cells": [
    {
      "cell_type": "code",
      "execution_count": 3,
      "metadata": {
        "id": "sVfc3DpSfU1I",
        "outputId": "85d26172-6dd5-4688-8301-3d9ecb65ed3f",
        "colab": {
          "base_uri": "https://localhost:8080/"
        }
      },
      "outputs": [
        {
          "output_type": "execute_result",
          "data": {
            "text/plain": [
              "0     0.43\n",
              "1     0.43\n",
              "2     0.48\n",
              "3     0.73\n",
              "4     0.77\n",
              "5     0.28\n",
              "6     0.40\n",
              "7     0.42\n",
              "8     0.43\n",
              "9     0.40\n",
              "10    0.44\n",
              "11    0.46\n",
              "12    0.50\n",
              "13    0.76\n",
              "14    0.79\n",
              "15    0.38\n",
              "16    0.43\n",
              "17    0.43\n",
              "18    0.46\n",
              "19    0.47\n",
              "Name: cost, dtype: float64"
            ]
          },
          "metadata": {},
          "execution_count": 3
        }
      ],
      "source": [
        "import pandas as pd\n",
        "import numpy as np\n",
        "\n",
        "df = pd.read_csv(\"beer.tsv\", delimiter=\" \")\n",
        "df['id'].astype('int')\n",
        "df['ame'].astype('string')\n",
        "df['calories'].astype('int')\n",
        "df['sodium'].astype('int')\n",
        "df['alcohol_min'].astype('float')\n",
        "df['alcohol_max'].astype('float')\n",
        "df['cost'].astype('float')"
      ]
    },
    {
      "cell_type": "code",
      "source": [
        "#2.2 вывод первых 5 элементов таблицы\n",
        "print(df.head(5))"
      ],
      "metadata": {
        "colab": {
          "base_uri": "https://localhost:8080/"
        },
        "id": "ROoT3f_Kf5VM",
        "outputId": "462d5939-c4c8-47c6-8075-951207508f0b"
      },
      "execution_count": 4,
      "outputs": [
        {
          "output_type": "stream",
          "name": "stdout",
          "text": [
            "   id          ame  calories  sodium  alcohol_min  alcohol_max  cost\n",
            "0   1    Budweiser       144      15          4.7          5.0  0.43\n",
            "1   2      Schlitz       151      19          4.9          5.5  0.43\n",
            "2   3    Lowenbrau       157      15          0.9          2.0  0.48\n",
            "3   4  Kronenbourg       170       7          5.2          6.0  0.73\n",
            "4   5     Heineken       152      11          5.0          6.0  0.77\n"
          ]
        }
      ]
    },
    {
      "cell_type": "code",
      "source": [
        "#2.3 вывод последних 5 элементов таблицы\n",
        "print(df.tail(5))"
      ],
      "metadata": {
        "colab": {
          "base_uri": "https://localhost:8080/"
        },
        "id": "FNjhfA8qgAMO",
        "outputId": "bfd95dc0-dc1e-4614-b5b0-9700d034c8c2"
      },
      "execution_count": 6,
      "outputs": [
        {
          "output_type": "stream",
          "name": "stdout",
          "text": [
            "    id                  ame  calories  sodium  alcohol_min  alcohol_max  cost\n",
            "15  16    Pabst_Extra_Light        68      15          2.3          3.0  0.38\n",
            "16  17                Hamms       139      19          4.4          5.0  0.43\n",
            "17  18  Heilemans_Old_Style       144      24          4.9          5.3  0.43\n",
            "18  19  Olympia_Goled_Light        72       6          2.9          4.0  0.46\n",
            "19  20        Schlitz_Light        97       7          4.2          5.0  0.47\n"
          ]
        }
      ]
    },
    {
      "cell_type": "code",
      "source": [
        "# 2.4 использовать функцию describe()\n",
        "print(df.describe(include=[np.number])[\"cost\"])"
      ],
      "metadata": {
        "colab": {
          "base_uri": "https://localhost:8080/"
        },
        "id": "lxs8lMihgCB3",
        "outputId": "06ad9199-0939-41ac-f8db-146a88cddafa"
      },
      "execution_count": 7,
      "outputs": [
        {
          "output_type": "stream",
          "name": "stdout",
          "text": [
            "count    20.000000\n",
            "mean      0.494500\n",
            "std       0.144858\n",
            "min       0.280000\n",
            "25%       0.427500\n",
            "50%       0.435000\n",
            "75%       0.485000\n",
            "max       0.790000\n",
            "Name: cost, dtype: float64\n"
          ]
        }
      ]
    },
    {
      "cell_type": "code",
      "source": [
        "#2.5 считывание значения конкретной ячейки\n",
        "print(df[\"cost\"].values[3])\n",
        "print(df.at[3, 'cost'])\n",
        "print(df.loc[3]['cost'])"
      ],
      "metadata": {
        "colab": {
          "base_uri": "https://localhost:8080/"
        },
        "id": "D4p8ayqogIXK",
        "outputId": "fe3be385-6cee-4064-b8f5-b190f8051fbe"
      },
      "execution_count": 8,
      "outputs": [
        {
          "output_type": "stream",
          "name": "stdout",
          "text": [
            "0.73\n",
            "0.73\n",
            "0.73\n"
          ]
        }
      ]
    },
    {
      "cell_type": "code",
      "source": [
        "#2.6 фильтрация строк по диапазону индекса\n",
        "print(df.filter(items=range(5, 10), axis=0))"
      ],
      "metadata": {
        "colab": {
          "base_uri": "https://localhost:8080/"
        },
        "id": "2NQXK8lpgNND",
        "outputId": "79438cdf-aa0c-4311-f0cc-8c4657965935"
      },
      "execution_count": 9,
      "outputs": [
        {
          "output_type": "stream",
          "name": "stdout",
          "text": [
            "   id                   ame  calories  sodium  alcohol_min  alcohol_max  cost\n",
            "5   6         Old_Milwaukee       145      23          4.6          5.5  0.28\n",
            "6   7            Augsberger       175      24          5.5          6.0  0.40\n",
            "7   7  Srohs_Bohemian_Style       149      27          4.7          5.2  0.42\n",
            "8   8           Miller_Lite        99      10          4.3          5.0  0.43\n",
            "9   9       Budweiser_Light       113       8          3.7          5.0  0.40\n"
          ]
        }
      ]
    },
    {
      "cell_type": "code",
      "source": [
        "# 2.7 фильтрация набора данных по какому-либо условию\n",
        "print(df[df[\"calories\"] > 150])"
      ],
      "metadata": {
        "colab": {
          "base_uri": "https://localhost:8080/"
        },
        "id": "SNY5-YGLgRO3",
        "outputId": "04366ba2-8ecf-4e2c-9377-eda783cc0ed9"
      },
      "execution_count": 10,
      "outputs": [
        {
          "output_type": "stream",
          "name": "stdout",
          "text": [
            "   id          ame  calories  sodium  alcohol_min  alcohol_max  cost\n",
            "1   2      Schlitz       151      19          4.9          5.5  0.43\n",
            "2   3    Lowenbrau       157      15          0.9          2.0  0.48\n",
            "3   4  Kronenbourg       170       7          5.2          6.0  0.73\n",
            "4   5     Heineken       152      11          5.0          6.0  0.77\n",
            "6   7   Augsberger       175      24          5.5          6.0  0.40\n"
          ]
        }
      ]
    },
    {
      "cell_type": "code",
      "source": [
        "#2.8 работа с пропущенными значениями\n",
        "df.iloc[1, 6] = np.nan\n",
        "print(\"has empty columns:{}\".format(df.isnull().values.any()))\n",
        "print(\"remsolving empty values\")\n",
        "for i in df.columns[df.isnull().any(axis=0)]:\n",
        "    df[i].fillna(df[i].mean(), inplace=True)\n",
        "print(\"has empty columns:{}\".format(df.isnull().values.any()))"
      ],
      "metadata": {
        "colab": {
          "base_uri": "https://localhost:8080/"
        },
        "id": "nl2ucpbMgUuk",
        "outputId": "6edfb5ff-6f46-42df-d04c-b751b3065ea3"
      },
      "execution_count": 11,
      "outputs": [
        {
          "output_type": "stream",
          "name": "stdout",
          "text": [
            "has empty columns:True\n",
            "remsolving empty values\n",
            "has empty columns:False\n"
          ]
        }
      ]
    },
    {
      "cell_type": "code",
      "source": [
        "#2.9 создание нового поля вычисленного на основе значений других полей\n",
        "\n",
        "print(\"\\n2.9.1 через выражение на базе имеющихся колонок\")\n",
        "df[\"avg_alcohol\"] = (df[\"alcohol_min\"] + df[\"alcohol_max\"]) / 2\n",
        "print(df[\"avg_alcohol\"])\n",
        "\n",
        "print(\"\\n2.9.2 через DataFrame.apply\")\n",
        "df[\"avg_alcohol_apply\"] = df.apply(lambda row: (row.alcohol_min + row.alcohol_max) / 2, axis=1)\n",
        "print(df[\"avg_alcohol_apply\"])\n",
        "\n",
        "print(\"\\n2.9.3 через Series.apply\")\n",
        "df[\"name_normal\"] = df[\"ame\"].apply(lambda ame: ame.split(\"_\")[0])\n",
        "print(df[\"name_normal\"])"
      ],
      "metadata": {
        "colab": {
          "base_uri": "https://localhost:8080/"
        },
        "id": "GppyCpaQgaCr",
        "outputId": "e1ee171b-b567-414f-f78d-b5d0b9db28f4"
      },
      "execution_count": 12,
      "outputs": [
        {
          "output_type": "stream",
          "name": "stdout",
          "text": [
            "\n",
            "2.9.1 через выражение на базе имеющихся колонок\n",
            "0     4.85\n",
            "1     5.20\n",
            "2     1.45\n",
            "3     5.60\n",
            "4     5.50\n",
            "5     5.05\n",
            "6     5.75\n",
            "7     4.95\n",
            "8     4.65\n",
            "9     4.35\n",
            "10    4.75\n",
            "11    4.55\n",
            "12    4.60\n",
            "13    4.85\n",
            "14    5.50\n",
            "15    2.65\n",
            "16    4.70\n",
            "17    5.10\n",
            "18    3.45\n",
            "19    4.60\n",
            "Name: avg_alcohol, dtype: float64\n",
            "\n",
            "2.9.2 через DataFrame.apply\n",
            "0     4.85\n",
            "1     5.20\n",
            "2     1.45\n",
            "3     5.60\n",
            "4     5.50\n",
            "5     5.05\n",
            "6     5.75\n",
            "7     4.95\n",
            "8     4.65\n",
            "9     4.35\n",
            "10    4.75\n",
            "11    4.55\n",
            "12    4.60\n",
            "13    4.85\n",
            "14    5.50\n",
            "15    2.65\n",
            "16    4.70\n",
            "17    5.10\n",
            "18    3.45\n",
            "19    4.60\n",
            "Name: avg_alcohol_apply, dtype: float64\n",
            "\n",
            "2.9.3 через Series.apply\n",
            "0       Budweiser\n",
            "1         Schlitz\n",
            "2       Lowenbrau\n",
            "3     Kronenbourg\n",
            "4        Heineken\n",
            "5             Old\n",
            "6      Augsberger\n",
            "7           Srohs\n",
            "8          Miller\n",
            "9       Budweiser\n",
            "10          Coors\n",
            "11          Coors\n",
            "12       Michelob\n",
            "13          Becks\n",
            "14          Kirin\n",
            "15          Pabst\n",
            "16          Hamms\n",
            "17      Heilemans\n",
            "18        Olympia\n",
            "19        Schlitz\n",
            "Name: name_normal, dtype: object\n"
          ]
        }
      ]
    },
    {
      "cell_type": "code",
      "source": [
        "#2.10 сортировка по какому-либо из полей\n",
        "df.sort_values(by=[\"avg_alcohol\"], ignore_index=True, inplace=True)\n",
        "print(df[\"avg_alcohol\"])"
      ],
      "metadata": {
        "colab": {
          "base_uri": "https://localhost:8080/"
        },
        "id": "b7H8qEHegjX0",
        "outputId": "fc6e8fc2-5aa0-4be1-ed55-f7f9cf319581"
      },
      "execution_count": 16,
      "outputs": [
        {
          "output_type": "stream",
          "name": "stdout",
          "text": [
            "0     1.45\n",
            "1     2.65\n",
            "2     3.45\n",
            "3     4.35\n",
            "4     4.55\n",
            "5     4.60\n",
            "6     4.60\n",
            "7     4.65\n",
            "8     4.70\n",
            "9     4.75\n",
            "10    4.85\n",
            "11    4.85\n",
            "12    4.95\n",
            "13    5.05\n",
            "14    5.10\n",
            "15    5.20\n",
            "16    5.50\n",
            "17    5.50\n",
            "18    5.60\n",
            "19    5.75\n",
            "Name: avg_alcohol, dtype: float64\n"
          ]
        }
      ]
    },
    {
      "cell_type": "code",
      "source": [
        "#2.11 вычислить несколько статистик по колонкам\n",
        "print(\"Средней стоимости\")\n",
        "srDf = df.loc[(df['cost'] >= 0.4) & (df['cost'] <= 0.7)]\n",
        "print(srDf)\n",
        "\n",
        "print(\"\\n2.12 .value_counts()\")\n",
        "print(\"openings count:{}\".format(df[\"name_normal\"].value_counts()))"
      ],
      "metadata": {
        "colab": {
          "base_uri": "https://localhost:8080/"
        },
        "id": "9_KT8uV4gnwB",
        "outputId": "05673b03-0758-4a84-fe95-74c56c9a8baf"
      },
      "execution_count": 17,
      "outputs": [
        {
          "output_type": "stream",
          "name": "stdout",
          "text": [
            "Средней стоимости\n",
            "    id                   ame  calories  sodium  alcohol_min  alcohol_max  \\\n",
            "0    3             Lowenbrau       157      15          0.9          2.0   \n",
            "2   19   Olympia_Goled_Light        72       6          2.9          4.0   \n",
            "3    9       Budweiser_Light       113       8          3.7          5.0   \n",
            "4   11           Coors_Light       102      15          4.1          5.0   \n",
            "5   12        Michelob_Light       135      11          4.2          5.0   \n",
            "6   20         Schlitz_Light        97       7          4.2          5.0   \n",
            "7    8           Miller_Lite        99      10          4.3          5.0   \n",
            "8   17                 Hamms       139      19          4.4          5.0   \n",
            "9   10                 Coors       140      18          4.6          4.9   \n",
            "11   1             Budweiser       144      15          4.7          5.0   \n",
            "12   7  Srohs_Bohemian_Style       149      27          4.7          5.2   \n",
            "14  18   Heilemans_Old_Style       144      24          4.9          5.3   \n",
            "15   2               Schlitz       151      19          4.9          5.5   \n",
            "19   7            Augsberger       175      24          5.5          6.0   \n",
            "\n",
            "        cost  avg_alcohol  avg_alcohol_apply name_normal  \n",
            "0   0.480000         1.45               1.45   Lowenbrau  \n",
            "2   0.460000         3.45               3.45     Olympia  \n",
            "3   0.400000         4.35               4.35   Budweiser  \n",
            "4   0.460000         4.55               4.55       Coors  \n",
            "5   0.500000         4.60               4.60    Michelob  \n",
            "6   0.470000         4.60               4.60     Schlitz  \n",
            "7   0.430000         4.65               4.65      Miller  \n",
            "8   0.430000         4.70               4.70       Hamms  \n",
            "9   0.440000         4.75               4.75       Coors  \n",
            "11  0.430000         4.85               4.85   Budweiser  \n",
            "12  0.420000         4.95               4.95       Srohs  \n",
            "14  0.430000         5.10               5.10   Heilemans  \n",
            "15  0.497895         5.20               5.20     Schlitz  \n",
            "19  0.400000         5.75               5.75  Augsberger  \n",
            "\n",
            "2.12 .value_counts()\n",
            "openings count:Budweiser      2\n",
            "Coors          2\n",
            "Schlitz        2\n",
            "Lowenbrau      1\n",
            "Srohs          1\n",
            "Kronenbourg    1\n",
            "Kirin          1\n",
            "Heineken       1\n",
            "Heilemans      1\n",
            "Old            1\n",
            "Hamms          1\n",
            "Becks          1\n",
            "Pabst          1\n",
            "Miller         1\n",
            "Michelob       1\n",
            "Olympia        1\n",
            "Augsberger     1\n",
            "Name: name_normal, dtype: int64\n"
          ]
        }
      ]
    },
    {
      "cell_type": "code",
      "source": [
        "#2.13 Вывод уникальных значений колонки\n",
        "print(\"Уникальных id\")\n",
        "print(df[\"id\"].unique())"
      ],
      "metadata": {
        "colab": {
          "base_uri": "https://localhost:8080/"
        },
        "id": "BjK4H62mguA0",
        "outputId": "6bfd27ed-347d-44e1-8c1d-6b54971696f7"
      },
      "execution_count": 18,
      "outputs": [
        {
          "output_type": "stream",
          "name": "stdout",
          "text": [
            "Уникальных id\n",
            "[ 3 16 19  9 11 12 20  8 17 10 15  1  7  6 18  2  5  4]\n"
          ]
        }
      ]
    },
    {
      "cell_type": "code",
      "source": [
        "#2.14 Удалите текущий индекс и создайте новый индекс на базе новой колонки\n",
        "df.reset_index(drop=True, inplace=True)\n",
        "df.set_index('id', inplace=True)\n",
        "print(df)"
      ],
      "metadata": {
        "colab": {
          "base_uri": "https://localhost:8080/"
        },
        "id": "oI3y4q63g-jJ",
        "outputId": "c8d04281-c895-4431-abf9-b436877d8248"
      },
      "execution_count": 19,
      "outputs": [
        {
          "output_type": "stream",
          "name": "stdout",
          "text": [
            "                     ame  calories  sodium  alcohol_min  alcohol_max  \\\n",
            "id                                                                     \n",
            "3              Lowenbrau       157      15          0.9          2.0   \n",
            "16     Pabst_Extra_Light        68      15          2.3          3.0   \n",
            "19   Olympia_Goled_Light        72       6          2.9          4.0   \n",
            "9        Budweiser_Light       113       8          3.7          5.0   \n",
            "11           Coors_Light       102      15          4.1          5.0   \n",
            "12        Michelob_Light       135      11          4.2          5.0   \n",
            "20         Schlitz_Light        97       7          4.2          5.0   \n",
            "8            Miller_Lite        99      10          4.3          5.0   \n",
            "17                 Hamms       139      19          4.4          5.0   \n",
            "10                 Coors       140      18          4.6          4.9   \n",
            "15                 Becks       150      19          4.7          5.0   \n",
            "1              Budweiser       144      15          4.7          5.0   \n",
            "7   Srohs_Bohemian_Style       149      27          4.7          5.2   \n",
            "6          Old_Milwaukee       145      23          4.6          5.5   \n",
            "18   Heilemans_Old_Style       144      24          4.9          5.3   \n",
            "2                Schlitz       151      19          4.9          5.5   \n",
            "5               Heineken       152      11          5.0          6.0   \n",
            "15                 Kirin       149       6          5.0          6.0   \n",
            "4            Kronenbourg       170       7          5.2          6.0   \n",
            "7             Augsberger       175      24          5.5          6.0   \n",
            "\n",
            "        cost  avg_alcohol  avg_alcohol_apply  name_normal  \n",
            "id                                                         \n",
            "3   0.480000         1.45               1.45    Lowenbrau  \n",
            "16  0.380000         2.65               2.65        Pabst  \n",
            "19  0.460000         3.45               3.45      Olympia  \n",
            "9   0.400000         4.35               4.35    Budweiser  \n",
            "11  0.460000         4.55               4.55        Coors  \n",
            "12  0.500000         4.60               4.60     Michelob  \n",
            "20  0.470000         4.60               4.60      Schlitz  \n",
            "8   0.430000         4.65               4.65       Miller  \n",
            "17  0.430000         4.70               4.70        Hamms  \n",
            "10  0.440000         4.75               4.75        Coors  \n",
            "15  0.760000         4.85               4.85        Becks  \n",
            "1   0.430000         4.85               4.85    Budweiser  \n",
            "7   0.420000         4.95               4.95        Srohs  \n",
            "6   0.280000         5.05               5.05          Old  \n",
            "18  0.430000         5.10               5.10    Heilemans  \n",
            "2   0.497895         5.20               5.20      Schlitz  \n",
            "5   0.770000         5.50               5.50     Heineken  \n",
            "15  0.790000         5.50               5.50        Kirin  \n",
            "4   0.730000         5.60               5.60  Kronenbourg  \n",
            "7   0.400000         5.75               5.75   Augsberger  \n"
          ]
        }
      ]
    }
  ]
}